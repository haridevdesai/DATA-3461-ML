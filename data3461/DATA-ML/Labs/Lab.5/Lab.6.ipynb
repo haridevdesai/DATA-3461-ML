{
 "cells": [
  {
   "cell_type": "markdown",
   "id": "49cf8381",
   "metadata": {},
   "source": [
    "# Lab 6\n",
    "\n",
    "Scikit learn provides a large variety of algorithms for some common Machine Learning tasks, such as:\n",
    "\n",
    "* Classification\n",
    "* Regression\n",
    "* Clustering\n",
    "* Feature Selection\n",
    "* Anomaly Detection\n",
    "\n",
    "It also provides some datasets that you can use to test these algorithms:\n",
    "\n",
    "* Classification Datasets:\n",
    "    * Breast cancer wisconsin\n",
    "    * Iris plants (3-classes)\n",
    "    * Optical recognition of handwritten digits (10-classes)\n",
    "    * Wine (n-classes)\n",
    "\n",
    "* Regression Datasets: \n",
    "    * Boston house prices \n",
    "    * Diabetes\n",
    "    * Linnerrud (multiple regression)\n",
    "    * California Housing\n",
    "\n",
    "* Image: \n",
    "    * The Olivetti faces\n",
    "    * The Labeled Faces in the Wild face recognition\n",
    "    * Forest covertypes\n",
    "\n",
    "* NLP:\n",
    "    * News group\n",
    "    * Reuters Corpus Volume I \n",
    "\n",
    "* Other:\n",
    "    * Kddcup 99- Intrusion Detection"
   ]
  },
  {
   "cell_type": "markdown",
   "id": "d4e3b6e9",
   "metadata": {},
   "source": [
    "## Exercises\n",
    "\n",
    "1. Use the full [Kddcup](http://kdd.ics.uci.edu/databases/kddcup99/kddcup99.html) dataset to compare classification performance of 3 different classifiers. \n",
    "    * Separate the data into train, validation, and test. \n",
    "    * Use accuracy as the metric for assessing performance. \n",
    "    * For each classifier, identify the hyperparameters. Perform optimization over at least 2 hyperparameters.   \n",
    "    * Compare the performance of the optimal configuration of the classifiers.\n",
    "\n",
    "2. Pick the best algorithm in question 1. Create an ensemble of at least 25 models, and use them for the classification task. Identify the top and bottom 10% of the data in terms of uncertainty of the decision.\n",
    "\n",
    "3. Use 2 different feature selection algorithm to identify the 10 most important features for the task in question 1. Retrain classifiers in question 1 with just this subset of features and compare performance.\n",
    "\n",
    "4. Use the same data, removing the labels, and compare performance of 3 different clustering algorithms. Can you find clusters for each of the classes in question 1? \n",
    "\n",
    "5. Can you identify any clusters within the top/botton 10% identified in 2. What are their characteristics?\n",
    "\n",
    "6. Use the \"SA\" dataset to compare the performance of 3 different anomaly detection algorithms.\n",
    "\n",
    "7. Create a subsample of 250 datapoints, redo question 6, using Leave-one-out as the method of evaluation.\n",
    "\n",
    "8. Use the feature selection algorithm to identify the 5 most important features for the task in question 6, for each algorithm. Does the anomaly detection improve using less features?"
   ]
  },
  {
   "cell_type": "markdown",
   "id": "ef18662c",
   "metadata": {},
   "source": [
    "## Quick look at the data"
   ]
  },
  {
   "cell_type": "code",
   "execution_count": 1,
   "id": "9f1c631a",
   "metadata": {},
   "outputs": [],
   "source": [
    "from sklearn.datasets import fetch_kddcup99\n",
    "D=fetch_kddcup99()"
   ]
  },
  {
   "cell_type": "code",
   "execution_count": 2,
   "id": "7d561eff",
   "metadata": {},
   "outputs": [
    {
     "data": {
      "text/plain": [
       "['DESCR', 'data', 'feature_names', 'frame', 'target', 'target_names']"
      ]
     },
     "execution_count": 2,
     "metadata": {},
     "output_type": "execute_result"
    }
   ],
   "source": [
    "dir(D)"
   ]
  },
  {
   "cell_type": "code",
   "execution_count": 3,
   "id": "875d2d16",
   "metadata": {},
   "outputs": [
    {
     "name": "stdout",
     "output_type": "stream",
     "text": [
      ".. _kddcup99_dataset:\n",
      "\n",
      "Kddcup 99 dataset\n",
      "-----------------\n",
      "\n",
      "The KDD Cup '99 dataset was created by processing the tcpdump portions\n",
      "of the 1998 DARPA Intrusion Detection System (IDS) Evaluation dataset,\n",
      "created by MIT Lincoln Lab [2]_. The artificial data (described on the `dataset's\n",
      "homepage <https://kdd.ics.uci.edu/databases/kddcup99/kddcup99.html>`_) was\n",
      "generated using a closed network and hand-injected attacks to produce a\n",
      "large number of different types of attack with normal activity in the\n",
      "background. As the initial goal was to produce a large training set for\n",
      "supervised learning algorithms, there is a large proportion (80.1%) of\n",
      "abnormal data which is unrealistic in real world, and inappropriate for\n",
      "unsupervised anomaly detection which aims at detecting 'abnormal' data, i.e.:\n",
      "\n",
      "* qualitatively different from normal data\n",
      "* in large minority among the observations.\n",
      "\n",
      "We thus transform the KDD Data set into two different data sets: SA and SF.\n",
      "\n",
      "* SA is obtained by simply selecting all the normal data, and a small\n",
      "  proportion of abnormal data to gives an anomaly proportion of 1%.\n",
      "\n",
      "* SF is obtained as in [3]_\n",
      "  by simply picking up the data whose attribute logged_in is positive, thus\n",
      "  focusing on the intrusion attack, which gives a proportion of 0.3% of\n",
      "  attack.\n",
      "\n",
      "* http and smtp are two subsets of SF corresponding with third feature\n",
      "  equal to 'http' (resp. to 'smtp').\n",
      "\n",
      "General KDD structure :\n",
      "\n",
      "    ================      ==========================================\n",
      "    Samples total         4898431\n",
      "    Dimensionality        41\n",
      "    Features              discrete (int) or continuous (float)\n",
      "    Targets               str, 'normal.' or name of the anomaly type\n",
      "    ================      ==========================================\n",
      "\n",
      "    SA structure :\n",
      "\n",
      "    ================      ==========================================\n",
      "    Samples total         976158\n",
      "    Dimensionality        41\n",
      "    Features              discrete (int) or continuous (float)\n",
      "    Targets               str, 'normal.' or name of the anomaly type\n",
      "    ================      ==========================================\n",
      "\n",
      "    SF structure :\n",
      "\n",
      "    ================      ==========================================\n",
      "    Samples total         699691\n",
      "    Dimensionality        4\n",
      "    Features              discrete (int) or continuous (float)\n",
      "    Targets               str, 'normal.' or name of the anomaly type\n",
      "    ================      ==========================================\n",
      "\n",
      "    http structure :\n",
      "\n",
      "    ================      ==========================================\n",
      "    Samples total         619052\n",
      "    Dimensionality        3\n",
      "    Features              discrete (int) or continuous (float)\n",
      "    Targets               str, 'normal.' or name of the anomaly type\n",
      "    ================      ==========================================\n",
      "\n",
      "    smtp structure :\n",
      "\n",
      "    ================      ==========================================\n",
      "    Samples total         95373\n",
      "    Dimensionality        3\n",
      "    Features              discrete (int) or continuous (float)\n",
      "    Targets               str, 'normal.' or name of the anomaly type\n",
      "    ================      ==========================================\n",
      "\n",
      ":func:`sklearn.datasets.fetch_kddcup99` will load the kddcup99 dataset; it\n",
      "returns a dictionary-like object with the feature matrix in the ``data`` member\n",
      "and the target values in ``target``. The \"as_frame\" optional argument converts\n",
      "``data`` into a pandas DataFrame and ``target`` into a pandas Series. The\n",
      "dataset will be downloaded from the web if necessary.\n",
      "\n",
      ".. topic:: References\n",
      "\n",
      "    .. [2] Analysis and Results of the 1999 DARPA Off-Line Intrusion\n",
      "           Detection Evaluation, Richard Lippmann, Joshua W. Haines,\n",
      "           David J. Fried, Jonathan Korba, Kumar Das.\n",
      "\n",
      "    .. [3] K. Yamanishi, J.-I. Takeuchi, G. Williams, and P. Milne. Online\n",
      "           unsupervised outlier detection using finite mixtures with\n",
      "           discounting learning algorithms. In Proceedings of the sixth\n",
      "           ACM SIGKDD international conference on Knowledge discovery\n",
      "           and data mining, pages 320-324. ACM Press, 2000.\n",
      "\n"
     ]
    }
   ],
   "source": [
    "print(D[\"DESCR\"])"
   ]
  },
  {
   "cell_type": "code",
   "execution_count": 4,
   "id": "f3c3c5b8",
   "metadata": {},
   "outputs": [
    {
     "data": {
      "text/plain": [
       "['DESCR', 'data', 'feature_names', 'frame', 'target', 'target_names']"
      ]
     },
     "execution_count": 4,
     "metadata": {},
     "output_type": "execute_result"
    }
   ],
   "source": [
    "dir(D)"
   ]
  },
  {
   "cell_type": "code",
   "execution_count": 5,
   "id": "4cef559d",
   "metadata": {},
   "outputs": [
    {
     "data": {
      "text/plain": [
       "array([b'back.', b'buffer_overflow.', b'ftp_write.', b'guess_passwd.',\n",
       "       b'imap.', b'ipsweep.', b'land.', b'loadmodule.', b'multihop.',\n",
       "       b'neptune.', b'nmap.', b'normal.', b'perl.', b'phf.', b'pod.',\n",
       "       b'portsweep.', b'rootkit.', b'satan.', b'smurf.', b'spy.',\n",
       "       b'teardrop.', b'warezclient.', b'warezmaster.'], dtype=object)"
      ]
     },
     "execution_count": 5,
     "metadata": {},
     "output_type": "execute_result"
    }
   ],
   "source": [
    "import numpy as np\n",
    "np.unique(D[\"target\"])"
   ]
  },
  {
   "cell_type": "code",
   "execution_count": 6,
   "id": "6ed0289b",
   "metadata": {},
   "outputs": [
    {
     "data": {
      "text/plain": [
       "23"
      ]
     },
     "execution_count": 6,
     "metadata": {},
     "output_type": "execute_result"
    }
   ],
   "source": [
    "len(np.unique(D[\"target\"]))"
   ]
  },
  {
   "cell_type": "code",
   "execution_count": 7,
   "id": "aff034ea",
   "metadata": {},
   "outputs": [
    {
     "data": {
      "text/plain": [
       "['duration',\n",
       " 'protocol_type',\n",
       " 'service',\n",
       " 'flag',\n",
       " 'src_bytes',\n",
       " 'dst_bytes',\n",
       " 'land',\n",
       " 'wrong_fragment',\n",
       " 'urgent',\n",
       " 'hot',\n",
       " 'num_failed_logins',\n",
       " 'logged_in',\n",
       " 'num_compromised',\n",
       " 'root_shell',\n",
       " 'su_attempted',\n",
       " 'num_root',\n",
       " 'num_file_creations',\n",
       " 'num_shells',\n",
       " 'num_access_files',\n",
       " 'num_outbound_cmds',\n",
       " 'is_host_login',\n",
       " 'is_guest_login',\n",
       " 'count',\n",
       " 'srv_count',\n",
       " 'serror_rate',\n",
       " 'srv_serror_rate',\n",
       " 'rerror_rate',\n",
       " 'srv_rerror_rate',\n",
       " 'same_srv_rate',\n",
       " 'diff_srv_rate',\n",
       " 'srv_diff_host_rate',\n",
       " 'dst_host_count',\n",
       " 'dst_host_srv_count',\n",
       " 'dst_host_same_srv_rate',\n",
       " 'dst_host_diff_srv_rate',\n",
       " 'dst_host_same_src_port_rate',\n",
       " 'dst_host_srv_diff_host_rate',\n",
       " 'dst_host_serror_rate',\n",
       " 'dst_host_srv_serror_rate',\n",
       " 'dst_host_rerror_rate',\n",
       " 'dst_host_srv_rerror_rate']"
      ]
     },
     "execution_count": 7,
     "metadata": {},
     "output_type": "execute_result"
    }
   ],
   "source": [
    "D[\"feature_names\"]"
   ]
  },
  {
   "cell_type": "markdown",
   "id": "cfabfc31",
   "metadata": {},
   "source": [
    "# Exercise 1"
   ]
  },
  {
   "cell_type": "code",
   "execution_count": 8,
   "id": "443d6f8a",
   "metadata": {},
   "outputs": [],
   "source": [
    "from sklearn.model_selection import train_test_split\n",
    "import numpy as np\n",
    "import pandas as pd\n",
    "\n",
    "# Load the dataset from D\n",
    "df = pd.DataFrame(D['data'], columns=D['feature_names'])\n",
    "\n",
    "# Assign features and target variables\n",
    "X = df  # All features\n",
    "y = D['target']  # Target labels\n",
    "\n",
    "# Convert target variable to binary\n",
    "y = (y == b'normal.').astype(int)"
   ]
  },
  {
   "cell_type": "code",
   "execution_count": 9,
   "id": "551b1f00",
   "metadata": {},
   "outputs": [],
   "source": [
    "from sklearn.preprocessing import StandardScaler, OneHotEncoder\n",
    "from sklearn.compose import ColumnTransformer\n",
    "from sklearn.pipeline import Pipeline\n",
    "from sklearn.impute import SimpleImputer\n",
    "\n",
    "# Preprocessing via transformations\n",
    "categorical_cols = X.select_dtypes(include=['object']).columns\n",
    "numerical_cols = X.select_dtypes(exclude=['object']).columns\n",
    "\n",
    "preprocessor = ColumnTransformer(\n",
    "    transformers=[\n",
    "        ('num', StandardScaler(), numerical_cols),\n",
    "        ('cat', OneHotEncoder(handle_unknown='ignore'), categorical_cols)\n",
    "    ])\n",
    "\n",
    "# Apply the preprocessor\n",
    "X = preprocessor.fit_transform(X)"
   ]
  },
  {
   "cell_type": "code",
   "execution_count": 10,
   "id": "07cbae43",
   "metadata": {},
   "outputs": [],
   "source": [
    "# Train/CV/Test Split\n",
    "X_train, X_temp, y_train, y_temp = train_test_split(X, y, test_size=0.4, random_state=42)\n",
    "X_val, X_test, y_val, y_test = train_test_split(X_temp, y_temp, test_size=0.5, random_state=42)"
   ]
  },
  {
   "cell_type": "code",
   "execution_count": 11,
   "id": "799a137e",
   "metadata": {},
   "outputs": [],
   "source": [
    "from sklearn.linear_model import LogisticRegression\n",
    "from sklearn.linear_model import SGDClassifier\n",
    "from sklearn.tree import DecisionTreeClassifier\n",
    "from sklearn.model_selection import GridSearchCV"
   ]
  },
  {
   "cell_type": "markdown",
   "id": "a31500b1",
   "metadata": {},
   "source": [
    "## Logistic Regression"
   ]
  },
  {
   "cell_type": "code",
   "execution_count": 12,
   "id": "8f582fec",
   "metadata": {},
   "outputs": [
    {
     "name": "stdout",
     "output_type": "stream",
     "text": [
      "Logistic Regression Best Parameters: {'C': 10, 'penalty': 'l2'}\n",
      "Logistic Regression Best Validation Accuracy: 0.9996963684542365\n"
     ]
    }
   ],
   "source": [
    "param_grid_lr = {\n",
    "    'C': [0.1, 1, 10],\n",
    "    'penalty': ['l2']\n",
    "}\n",
    "\n",
    "lr = GridSearchCV(LogisticRegression(solver='liblinear'), param_grid_lr, cv=5)\n",
    "lr.fit(X_train, y_train)\n",
    "\n",
    "# Best params and score on validation set\n",
    "print(\"Logistic Regression Best Parameters:\", lr.best_params_)\n",
    "print(\"Logistic Regression Best Validation Accuracy:\", lr.best_score_)"
   ]
  },
  {
   "cell_type": "markdown",
   "id": "f9978098",
   "metadata": {},
   "source": [
    "## Stochastic Gradient Descent"
   ]
  },
  {
   "cell_type": "code",
   "execution_count": 13,
   "id": "31699458",
   "metadata": {},
   "outputs": [
    {
     "name": "stderr",
     "output_type": "stream",
     "text": [
      "/home/efazh/.local/lib/python3.10/site-packages/sklearn/linear_model/_stochastic_gradient.py:173: FutureWarning: The loss 'log' was deprecated in v1.1 and will be removed in version 1.3. Use `loss='log_loss'` which is equivalent.\n",
      "  warnings.warn(\n",
      "/home/efazh/.local/lib/python3.10/site-packages/sklearn/linear_model/_stochastic_gradient.py:173: FutureWarning: The loss 'log' was deprecated in v1.1 and will be removed in version 1.3. Use `loss='log_loss'` which is equivalent.\n",
      "  warnings.warn(\n",
      "/home/efazh/.local/lib/python3.10/site-packages/sklearn/linear_model/_stochastic_gradient.py:173: FutureWarning: The loss 'log' was deprecated in v1.1 and will be removed in version 1.3. Use `loss='log_loss'` which is equivalent.\n",
      "  warnings.warn(\n",
      "/home/efazh/.local/lib/python3.10/site-packages/sklearn/linear_model/_stochastic_gradient.py:173: FutureWarning: The loss 'log' was deprecated in v1.1 and will be removed in version 1.3. Use `loss='log_loss'` which is equivalent.\n",
      "  warnings.warn(\n",
      "/home/efazh/.local/lib/python3.10/site-packages/sklearn/linear_model/_stochastic_gradient.py:173: FutureWarning: The loss 'log' was deprecated in v1.1 and will be removed in version 1.3. Use `loss='log_loss'` which is equivalent.\n",
      "  warnings.warn(\n",
      "/home/efazh/.local/lib/python3.10/site-packages/sklearn/linear_model/_stochastic_gradient.py:173: FutureWarning: The loss 'log' was deprecated in v1.1 and will be removed in version 1.3. Use `loss='log_loss'` which is equivalent.\n",
      "  warnings.warn(\n",
      "/home/efazh/.local/lib/python3.10/site-packages/sklearn/linear_model/_stochastic_gradient.py:173: FutureWarning: The loss 'log' was deprecated in v1.1 and will be removed in version 1.3. Use `loss='log_loss'` which is equivalent.\n",
      "  warnings.warn(\n",
      "/home/efazh/.local/lib/python3.10/site-packages/sklearn/linear_model/_stochastic_gradient.py:173: FutureWarning: The loss 'log' was deprecated in v1.1 and will be removed in version 1.3. Use `loss='log_loss'` which is equivalent.\n",
      "  warnings.warn(\n",
      "/home/efazh/.local/lib/python3.10/site-packages/sklearn/linear_model/_stochastic_gradient.py:173: FutureWarning: The loss 'log' was deprecated in v1.1 and will be removed in version 1.3. Use `loss='log_loss'` which is equivalent.\n",
      "  warnings.warn(\n",
      "/home/efazh/.local/lib/python3.10/site-packages/sklearn/linear_model/_stochastic_gradient.py:173: FutureWarning: The loss 'log' was deprecated in v1.1 and will be removed in version 1.3. Use `loss='log_loss'` which is equivalent.\n",
      "  warnings.warn(\n",
      "/home/efazh/.local/lib/python3.10/site-packages/sklearn/linear_model/_stochastic_gradient.py:173: FutureWarning: The loss 'log' was deprecated in v1.1 and will be removed in version 1.3. Use `loss='log_loss'` which is equivalent.\n",
      "  warnings.warn(\n",
      "/home/efazh/.local/lib/python3.10/site-packages/sklearn/linear_model/_stochastic_gradient.py:173: FutureWarning: The loss 'log' was deprecated in v1.1 and will be removed in version 1.3. Use `loss='log_loss'` which is equivalent.\n",
      "  warnings.warn(\n",
      "/home/efazh/.local/lib/python3.10/site-packages/sklearn/linear_model/_stochastic_gradient.py:173: FutureWarning: The loss 'log' was deprecated in v1.1 and will be removed in version 1.3. Use `loss='log_loss'` which is equivalent.\n",
      "  warnings.warn(\n",
      "/home/efazh/.local/lib/python3.10/site-packages/sklearn/linear_model/_stochastic_gradient.py:173: FutureWarning: The loss 'log' was deprecated in v1.1 and will be removed in version 1.3. Use `loss='log_loss'` which is equivalent.\n",
      "  warnings.warn(\n",
      "/home/efazh/.local/lib/python3.10/site-packages/sklearn/linear_model/_stochastic_gradient.py:173: FutureWarning: The loss 'log' was deprecated in v1.1 and will be removed in version 1.3. Use `loss='log_loss'` which is equivalent.\n",
      "  warnings.warn(\n"
     ]
    },
    {
     "name": "stdout",
     "output_type": "stream",
     "text": [
      "SGDClassifier Best Parameters: {'alpha': 0.0001, 'loss': 'hinge'}\n",
      "SGDClassifier Best Validation Accuracy: 0.9995917848406652\n"
     ]
    }
   ],
   "source": [
    "# Define the parameter grid\n",
    "param_grid_sgd = {\n",
    "    'alpha': [0.0001, 0.001, 0.01],  # Regularization strength\n",
    "    'loss': ['hinge', 'log']  # Hinge for SVM, log for logistic regression\n",
    "}\n",
    "\n",
    "# Initialize SGDClassifier and perform GridSearchCV\n",
    "sgd = GridSearchCV(SGDClassifier(max_iter=1000, tol=1e-3), param_grid_sgd, cv=5)\n",
    "sgd.fit(X_train, y_train)\n",
    "\n",
    "# Display best hyperparameters and validation accuracy\n",
    "print(\"SGDClassifier Best Parameters:\", sgd.best_params_)\n",
    "print(\"SGDClassifier Best Validation Accuracy:\", sgd.best_score_)"
   ]
  },
  {
   "cell_type": "markdown",
   "id": "cb7d4d0e",
   "metadata": {},
   "source": [
    "## Decision Tree"
   ]
  },
  {
   "cell_type": "code",
   "execution_count": 14,
   "id": "ffdbcafb",
   "metadata": {},
   "outputs": [
    {
     "name": "stdout",
     "output_type": "stream",
     "text": [
      "Decision Tree Best Parameters: {'max_depth': 15, 'min_samples_split': 2}\n",
      "Decision Tree Best Validation Accuracy: 0.9996693789822373\n"
     ]
    }
   ],
   "source": [
    "# Define the parameter grid\n",
    "param_grid_dt = {\n",
    "    'max_depth': [5, 10, 15],  # Control the depth of the tree\n",
    "    'min_samples_split': [2, 10, 20]  # Control how splits occur\n",
    "}\n",
    "\n",
    "# Initialize Decision Tree Classifier and perform GridSearchCV\n",
    "dt = GridSearchCV(DecisionTreeClassifier(), param_grid_dt, cv=5)\n",
    "dt.fit(X_train, y_train)\n",
    "\n",
    "# Display best hyperparameters and validation accuracy\n",
    "print(\"Decision Tree Best Parameters:\", dt.best_params_)\n",
    "print(\"Decision Tree Best Validation Accuracy:\", dt.best_score_)"
   ]
  },
  {
   "cell_type": "markdown",
   "id": "3b954d52",
   "metadata": {},
   "source": [
    "## Evaluating Classifiers on Test Set"
   ]
  },
  {
   "cell_type": "code",
   "execution_count": 15,
   "id": "81fa7784",
   "metadata": {},
   "outputs": [
    {
     "name": "stdout",
     "output_type": "stream",
     "text": [
      "SGDClassifier Test Accuracy: 1.000\n",
      "Decision Tree Test Accuracy: 0.999\n",
      "Logistic Regression Test Accuracy: 1.000\n"
     ]
    }
   ],
   "source": [
    "from sklearn.metrics import accuracy_score\n",
    "\n",
    "# Logistic Regression on Test Set\n",
    "y_pred_lr = lr.best_estimator_.predict(X_test)\n",
    "acc_lr = accuracy_score(y_test, y_pred_lr)\n",
    "\n",
    "# SGDC on the test set\n",
    "y_pred_sgd = sgd.best_estimator_.predict(X_test)\n",
    "acc_sgd = accuracy_score(y_test, y_pred_sgd)\n",
    "\n",
    "# Decision Tree on the test set\n",
    "y_pred_dt = dt.best_estimator_.predict(X_test)\n",
    "acc_dt = accuracy_score(y_test, y_pred_dt)\n",
    "\n",
    "# Assuming you already have Logistic Regression results\n",
    "print(f\"SGDClassifier Test Accuracy: {acc_sgd:.3f}\")\n",
    "print(f\"Decision Tree Test Accuracy: {acc_dt:.3f}\")\n",
    "print(f\"Logistic Regression Test Accuracy: {acc_lr:.3f}\")"
   ]
  },
  {
   "cell_type": "code",
   "execution_count": 16,
   "id": "57bb7011",
   "metadata": {},
   "outputs": [
    {
     "name": "stdout",
     "output_type": "stream",
     "text": [
      "            Classifier  Accuracy\n",
      "0  Logistic Regression  0.999666\n",
      "1        SGDClassifier  0.999666\n",
      "2        Decision Tree  0.999494\n"
     ]
    }
   ],
   "source": [
    "results = pd.DataFrame({\n",
    "    'Classifier': ['Logistic Regression', 'SGDClassifier', 'Decision Tree'],\n",
    "    'Accuracy': [acc_lr, acc_sgd, acc_dt]\n",
    "})\n",
    "\n",
    "print(results)"
   ]
  },
  {
   "cell_type": "markdown",
   "id": "69236f5c",
   "metadata": {},
   "source": [
    "### Out of all three classifiers, Logistic Regression seems to have done the best"
   ]
  },
  {
   "cell_type": "markdown",
   "id": "37234ed9",
   "metadata": {},
   "source": [
    "# Exercise 2"
   ]
  },
  {
   "cell_type": "code",
   "execution_count": 17,
   "id": "91989ed8",
   "metadata": {},
   "outputs": [],
   "source": [
    "import numpy as np\n",
    "import pandas as pd\n",
    "from sklearn.linear_model import LogisticRegression\n",
    "from sklearn.utils import resample\n",
    "from sklearn.metrics import accuracy_score"
   ]
  },
  {
   "cell_type": "code",
   "execution_count": 18,
   "id": "ed8c10fa",
   "metadata": {},
   "outputs": [],
   "source": [
    "# Set up the number of models in the ensemble\n",
    "n_models = 25\n",
    "models = []\n",
    "\n",
    "# Train 25 Logistic Regression models on different subsets of the training data\n",
    "for i in range(n_models):\n",
    "    # Bootstraping sample from the training data\n",
    "    X_train_sample, y_train_sample = resample(X_train, y_train, random_state=i)\n",
    "    \n",
    "    # Initialize and train Logistic Regression model\n",
    "    lr = LogisticRegression(max_iter=1000)\n",
    "    lr.fit(X_train_sample, y_train_sample)\n",
    "    \n",
    "    # Store the trained model\n",
    "    models.append(lr)"
   ]
  },
  {
   "cell_type": "code",
   "execution_count": 19,
   "id": "98009e95",
   "metadata": {},
   "outputs": [],
   "source": [
    "# Initialize a matrix to store the probabilities for each model's predictions\n",
    "ensemble_probs = np.zeros((X_test.shape[0], n_models))\n",
    "\n",
    "# Get probability predictions for each model in the ensemble\n",
    "for i, model in enumerate(models):\n",
    "    # Predict probabilities for class 1 (positive class)\n",
    "    ensemble_probs[:, i] = model.predict_proba(X_test)[:, 1]\n",
    "\n",
    "# Average the predictions across all models to get the final prediction probabilities\n",
    "average_probs = np.mean(ensemble_probs, axis=1)"
   ]
  },
  {
   "cell_type": "code",
   "execution_count": 20,
   "id": "94f90d48",
   "metadata": {},
   "outputs": [],
   "source": [
    "# Calculate the variance of the ensemble predictions for each sample\n",
    "uncertainty = np.var(ensemble_probs, axis=1)"
   ]
  },
  {
   "cell_type": "code",
   "execution_count": 21,
   "id": "94e25417",
   "metadata": {},
   "outputs": [
    {
     "name": "stdout",
     "output_type": "stream",
     "text": [
      "Top 10% most uncertain samples:\n",
      "  (0, 0)\t1.0\n",
      "  (0, 2496)\t1.0\n",
      "  (0, 2543)\t1.0\n",
      "  (0, 2565)\t1.0\n",
      "  (0, 2575)\t1.0\n",
      "  (0, 5875)\t1.0\n",
      "  (0, 16600)\t1.0\n",
      "  (0, 16602)\t1.0\n",
      "  (0, 16605)\t1.0\n",
      "  (0, 16609)\t1.0\n",
      "  (0, 16631)\t1.0\n",
      "  (0, 16637)\t1.0\n",
      "  (0, 16639)\t1.0\n",
      "  (0, 16662)\t1.0\n",
      "  (0, 16664)\t1.0\n",
      "  (0, 16667)\t1.0\n",
      "  (0, 16687)\t1.0\n",
      "  (0, 16705)\t1.0\n",
      "  (0, 16708)\t1.0\n",
      "  (0, 16715)\t1.0\n",
      "  (0, 16716)\t1.0\n",
      "  (0, 16717)\t1.0\n",
      "  (0, 16949)\t1.0\n",
      "  (0, 17211)\t1.0\n",
      "  (0, 17679)\t1.0\n",
      "  :\t:\n",
      "  (9879, 16687)\t1.0\n",
      "  (9879, 16705)\t1.0\n",
      "  (9879, 16708)\t1.0\n",
      "  (9879, 16715)\t1.0\n",
      "  (9879, 16716)\t1.0\n",
      "  (9879, 16717)\t1.0\n",
      "  (9879, 16723)\t1.0\n",
      "  (9879, 17213)\t1.0\n",
      "  (9879, 17679)\t1.0\n",
      "  (9879, 17771)\t1.0\n",
      "  (9879, 17822)\t1.0\n",
      "  (9879, 17899)\t1.0\n",
      "  (9879, 18024)\t1.0\n",
      "  (9879, 18096)\t1.0\n",
      "  (9879, 18173)\t1.0\n",
      "  (9879, 18446)\t1.0\n",
      "  (9879, 18450)\t1.0\n",
      "  (9879, 18704)\t1.0\n",
      "  (9879, 18835)\t1.0\n",
      "  (9879, 18905)\t1.0\n",
      "  (9879, 19006)\t1.0\n",
      "  (9879, 19071)\t1.0\n",
      "  (9879, 19171)\t1.0\n",
      "  (9879, 19256)\t1.0\n",
      "  (9879, 19344)\t1.0\n",
      "\n",
      "Bottom 10% least uncertain samples:\n",
      "  (0, 0)\t1.0\n",
      "  (0, 2496)\t1.0\n",
      "  (0, 2543)\t1.0\n",
      "  (0, 2569)\t1.0\n",
      "  (0, 2575)\t1.0\n",
      "  (0, 5875)\t1.0\n",
      "  (0, 16600)\t1.0\n",
      "  (0, 16602)\t1.0\n",
      "  (0, 16605)\t1.0\n",
      "  (0, 16609)\t1.0\n",
      "  (0, 16631)\t1.0\n",
      "  (0, 16637)\t1.0\n",
      "  (0, 16639)\t1.0\n",
      "  (0, 16662)\t1.0\n",
      "  (0, 16664)\t1.0\n",
      "  (0, 16667)\t1.0\n",
      "  (0, 16687)\t1.0\n",
      "  (0, 16705)\t1.0\n",
      "  (0, 16708)\t1.0\n",
      "  (0, 16715)\t1.0\n",
      "  (0, 16716)\t1.0\n",
      "  (0, 16717)\t1.0\n",
      "  (0, 17015)\t1.0\n",
      "  (0, 17225)\t1.0\n",
      "  (0, 17770)\t1.0\n",
      "  :\t:\n",
      "  (9879, 16687)\t1.0\n",
      "  (9879, 16705)\t1.0\n",
      "  (9879, 16708)\t1.0\n",
      "  (9879, 16715)\t1.0\n",
      "  (9879, 16716)\t1.0\n",
      "  (9879, 16717)\t1.0\n",
      "  (9879, 16961)\t1.0\n",
      "  (9879, 17214)\t1.0\n",
      "  (9879, 17770)\t1.0\n",
      "  (9879, 17821)\t1.0\n",
      "  (9879, 17822)\t1.0\n",
      "  (9879, 17899)\t1.0\n",
      "  (9879, 17952)\t1.0\n",
      "  (9879, 18055)\t1.0\n",
      "  (9879, 18127)\t1.0\n",
      "  (9879, 18446)\t1.0\n",
      "  (9879, 18452)\t1.0\n",
      "  (9879, 18705)\t1.0\n",
      "  (9879, 18810)\t1.0\n",
      "  (9879, 18905)\t1.0\n",
      "  (9879, 19006)\t1.0\n",
      "  (9879, 19170)\t1.0\n",
      "  (9879, 19242)\t1.0\n",
      "  (9879, 19243)\t1.0\n",
      "  (9879, 19344)\t1.0\n"
     ]
    }
   ],
   "source": [
    "# Get the number of samples in the top and bottom 10%\n",
    "n_top_bottom = int(0.1 * X_test.shape[0])\n",
    "\n",
    "# Sort the indices based on uncertainty\n",
    "sorted_indices = np.argsort(uncertainty)\n",
    "\n",
    "# Get the top 10% of the data in terms of uncertainty\n",
    "top_10_percent_indices = sorted_indices[-n_top_bottom:]\n",
    "\n",
    "# Get the bottom 10% of the data in terms of uncertainty\n",
    "bottom_10_percent_indices = sorted_indices[:n_top_bottom]\n",
    "\n",
    "# Get the actual samples for the top and bottom 10% uncertain\n",
    "X_top_10_percent = X_test[top_10_percent_indices]\n",
    "X_bottom_10_percent = X_test[bottom_10_percent_indices]\n",
    "\n",
    "# Optionally, print or display the results\n",
    "print(\"Top 10% most uncertain samples:\")\n",
    "print(X_top_10_percent)\n",
    "\n",
    "print(\"\\nBottom 10% least uncertain samples:\")\n",
    "print(X_bottom_10_percent)"
   ]
  },
  {
   "cell_type": "code",
   "execution_count": 22,
   "id": "d74aac69",
   "metadata": {},
   "outputs": [
    {
     "name": "stdout",
     "output_type": "stream",
     "text": [
      "Ensemble Test Accuracy: 1.000\n"
     ]
    }
   ],
   "source": [
    "# Convert the average probabilities to final predictions (using 0.5 as the threshold)\n",
    "ensemble_predictions = (average_probs >= 0.5).astype(int)\n",
    "\n",
    "# Calculate the accuracy of the ensemble\n",
    "ensemble_accuracy = accuracy_score(y_test, ensemble_predictions)\n",
    "print(f\"Ensemble Test Accuracy: {ensemble_accuracy:.3f}\")"
   ]
  },
  {
   "cell_type": "markdown",
   "id": "400fc0b0",
   "metadata": {},
   "source": [
    "# Exercise 3"
   ]
  },
  {
   "cell_type": "code",
   "execution_count": 23,
   "id": "d798bf54",
   "metadata": {},
   "outputs": [],
   "source": [
    "from sklearn.feature_selection import RFE\n",
    "from sklearn.ensemble import RandomForestClassifier\n",
    "from sklearn.metrics import accuracy_score\n",
    "from sklearn.model_selection import train_test_split"
   ]
  },
  {
   "cell_type": "code",
   "execution_count": null,
   "id": "656a1126",
   "metadata": {},
   "outputs": [],
   "source": [
    "# Initialize Logistic Regression for RFE\n",
    "lr = LogisticRegression(max_iter=1000)\n",
    "\n",
    "# Perform RFE to select the top 10 features\n",
    "rfe = RFE(estimator=lr, n_features_to_select=10)\n",
    "rfe.fit(X_train, y_train)\n",
    "\n",
    "# Get the indices of the top 10 features\n",
    "rfe_top_10_indices = np.where(rfe.ranking_ == 1)[0]\n",
    "\n",
    "# Select the top 10 features for train and test sets\n",
    "X_train_rfe = X_train[:, rfe_top_10_indices]\n",
    "X_test_rfe = X_test[:, rfe_top_10_indices]\n",
    "\n",
    "print(\"Top 10 features selected by RFE:\", rfe_top_10_indices)"
   ]
  },
  {
   "cell_type": "code",
   "execution_count": null,
   "id": "829c5958",
   "metadata": {},
   "outputs": [],
   "source": [
    "# Initialize Random Forest classifier\n",
    "rf = RandomForestClassifier(n_estimators=100, random_state=42)\n",
    "rf.fit(X_train, y_train)\n",
    "\n",
    "# Get feature importance from Random Forest\n",
    "feature_importances = rf.feature_importances_\n",
    "\n",
    "# Get the indices of the top 10 important features\n",
    "rf_top_10_indices = np.argsort(feature_importances)[-10:]\n",
    "\n",
    "# Select the top 10 features for train and test sets\n",
    "X_train_rf = X_train[:, rf_top_10_indices]\n",
    "X_test_rf = X_test[:, rf_top_10_indices]\n",
    "\n",
    "print(\"Top 10 features selected by Random Forest:\", rf_top_10_indices)"
   ]
  },
  {
   "cell_type": "code",
   "execution_count": null,
   "id": "70d50371",
   "metadata": {},
   "outputs": [],
   "source": [
    "# Train Logistic Regression using features from RFE\n",
    "lr_rfe = LogisticRegression(max_iter=1000)\n",
    "lr_rfe.fit(X_train_rfe, y_train)\n",
    "y_pred_lr_rfe = lr_rfe.predict(X_test_rfe)\n",
    "acc_lr_rfe = accuracy_score(y_test, y_pred_lr_rfe)\n",
    "\n",
    "# Train Logistic Regression using features from Random Forest\n",
    "lr_rf = LogisticRegression(max_iter=1000)\n",
    "lr_rf.fit(X_train_rf, y_train)\n",
    "y_pred_lr_rf = lr_rf.predict(X_test_rf)\n",
    "acc_lr_rf = accuracy_score(y_test, y_pred_lr_rf)\n",
    "\n",
    "print(f\"Logistic Regression Accuracy with RFE features: {acc_lr_rfe:.3f}\")\n",
    "print(f\"Logistic Regression Accuracy with Random Forest features: {acc_lr_rf:.3f}\")"
   ]
  },
  {
   "cell_type": "code",
   "execution_count": null,
   "id": "0c0b81b0",
   "metadata": {},
   "outputs": [],
   "source": [
    "# Train SGDClassifier using features from RFE\n",
    "sgd_rfe = SGDClassifier(max_iter=1000, tol=1e-3)\n",
    "sgd_rfe.fit(X_train_rfe, y_train)\n",
    "y_pred_sgd_rfe = sgd_rfe.predict(X_test_rfe)\n",
    "acc_sgd_rfe = accuracy_score(y_test, y_pred_sgd_rfe)\n",
    "\n",
    "# Train SGDClassifier using features from Random Forest\n",
    "sgd_rf = SGDClassifier(max_iter=1000, tol=1e-3)\n",
    "sgd_rf.fit(X_train_rf, y_train)\n",
    "y_pred_sgd_rf = sgd_rf.predict(X_test_rf)\n",
    "acc_sgd_rf = accuracy_score(y_test, y_pred_sgd_rf)\n",
    "\n",
    "print(f\"SGDClassifier Accuracy with RFE features: {acc_sgd_rfe:.3f}\")\n",
    "print(f\"SGDClassifier Accuracy with Random Forest features: {acc_sgd_rf:.3f}\")"
   ]
  },
  {
   "cell_type": "code",
   "execution_count": null,
   "id": "1278cbf5",
   "metadata": {},
   "outputs": [],
   "source": [
    "# Train Decision Tree using features from RFE\n",
    "dt_rfe = DecisionTreeClassifier()\n",
    "dt_rfe.fit(X_train_rfe, y_train)\n",
    "y_pred_dt_rfe = dt_rfe.predict(X_test_rfe)\n",
    "acc_dt_rfe = accuracy_score(y_test, y_pred_dt_rfe)\n",
    "\n",
    "# Train Decision Tree using features from Random Forest\n",
    "dt_rf = DecisionTreeClassifier()\n",
    "dt_rf.fit(X_train_rf, y_train)\n",
    "y_pred_dt_rf = dt_rf.predict(X_test_rf)\n",
    "acc_dt_rf = accuracy_score(y_test, y_pred_dt_rf)\n",
    "\n",
    "print(f\"Decision Tree Accuracy with RFE features: {acc_dt_rfe:.3f}\")\n",
    "print(f\"Decision Tree Accuracy with Random Forest features: {acc_dt_rf:.3f}\")"
   ]
  },
  {
   "cell_type": "code",
   "execution_count": null,
   "id": "8d46a403",
   "metadata": {},
   "outputs": [],
   "source": [
    "results = pd.DataFrame({\n",
    "    'Classifier': ['Logistic Regression', 'SGDClassifier', 'Decision Tree'],\n",
    "    'RFE Accuracy': [acc_lr_rfe, acc_sgd_rfe, acc_dt_rfe],\n",
    "    'Random Forest Accuracy': [acc_lr_rf, acc_sgd_rf, acc_dt_rf]\n",
    "})\n",
    "\n",
    "print(results)"
   ]
  },
  {
   "cell_type": "markdown",
   "id": "f21da71c",
   "metadata": {},
   "source": [
    "# Exercise 4"
   ]
  },
  {
   "cell_type": "code",
   "execution_count": null,
   "id": "fe528b4f",
   "metadata": {},
   "outputs": [],
   "source": [
    "from sklearn.cluster import KMeans, AgglomerativeClustering, DBSCAN\n",
    "from sklearn.metrics import adjusted_rand_score, silhouette_score\n",
    "from sklearn.preprocessing import StandardScaler\n",
    "import pandas as pd\n",
    "import numpy as np"
   ]
  },
  {
   "cell_type": "markdown",
   "id": "a1f8a97d",
   "metadata": {},
   "source": [
    "# Exercise 5"
   ]
  },
  {
   "cell_type": "code",
   "execution_count": null,
   "id": "3dda4365",
   "metadata": {},
   "outputs": [],
   "source": [
    "# Combine train and test for clustering\n",
    "X_all = np.vstack([X_train, X_test])\n",
    "y_all = np.hstack([y_train, y_test])  # Keep labels for evaluation\n",
    "\n",
    "# Standardize the data for clustering algorithms\n",
    "scaler = StandardScaler()\n",
    "X_scaled = scaler.fit_transform(X_all)"
   ]
  },
  {
   "cell_type": "markdown",
   "id": "24d865e9",
   "metadata": {},
   "source": [
    "## K-Means Clustering"
   ]
  },
  {
   "cell_type": "code",
   "execution_count": null,
   "id": "1d5c40b9",
   "metadata": {},
   "outputs": [],
   "source": [
    "n_classes = len(np.unique(y_all))  # Assuming binary classification, this would be 2\n",
    "\n",
    "# Apply K-Means\n",
    "kmeans = KMeans(n_clusters=n_classes, random_state=42)\n",
    "kmeans_labels = kmeans.fit_predict(X_scaled)\n",
    "\n",
    "# Evaluate clustering performance using Adjusted Rand Index (ARI) and Silhouette Score\n",
    "ari_kmeans = adjusted_rand_score(y_all, kmeans_labels)\n",
    "silhouette_kmeans = silhouette_score(X_scaled, kmeans_labels)\n",
    "\n",
    "print(f\"K-Means ARI: {ari_kmeans:.3f}\")\n",
    "print(f\"K-Means Silhouette Score: {silhouette_kmeans:.3f}\")"
   ]
  },
  {
   "cell_type": "markdown",
   "id": "a55298a8",
   "metadata": {},
   "source": [
    "## Agglomerative Clustering"
   ]
  },
  {
   "cell_type": "code",
   "execution_count": null,
   "id": "2de6565c",
   "metadata": {},
   "outputs": [],
   "source": [
    "# Apply Agglomerative Clustering\n",
    "agg_clustering = AgglomerativeClustering(n_clusters=n_classes)\n",
    "agg_labels = agg_clustering.fit_predict(X_scaled)\n",
    "\n",
    "# Evaluate clustering performance using ARI and Silhouette Score\n",
    "ari_agg = adjusted_rand_score(y_all, agg_labels)\n",
    "silhouette_agg = silhouette_score(X_scaled, agg_labels)\n",
    "\n",
    "print(f\"Agglomerative Clustering ARI: {ari_agg:.3f}\")\n",
    "print(f\"Agglomerative Clustering Silhouette Score: {silhouette_agg:.3f}\")"
   ]
  },
  {
   "cell_type": "markdown",
   "id": "0dd7541d",
   "metadata": {},
   "source": [
    "## DBSCAN Clustering"
   ]
  },
  {
   "cell_type": "code",
   "execution_count": null,
   "id": "00b3a5f1",
   "metadata": {},
   "outputs": [],
   "source": [
    "# Apply DBSCAN\n",
    "dbscan = DBSCAN(eps=0.5, min_samples=5)\n",
    "dbscan_labels = dbscan.fit_predict(X_scaled)\n",
    "\n",
    "# Some points might be marked as noise (-1), so we filter those out for evaluation\n",
    "valid_labels = dbscan_labels != -1\n",
    "\n",
    "# Evaluate clustering performance (if valid labels exist)\n",
    "if np.sum(valid_labels) > 0:\n",
    "    ari_dbscan = adjusted_rand_score(y_all[valid_labels], dbscan_labels[valid_labels])\n",
    "    silhouette_dbscan = silhouette_score(X_scaled[valid_labels], dbscan_labels[valid_labels])\n",
    "\n",
    "    print(f\"DBSCAN ARI: {ari_dbscan:.3f}\")\n",
    "    print(f\"DBSCAN Silhouette Score: {silhouette_dbscan:.3f}\")\n",
    "else:\n",
    "    print(\"DBSCAN did not find enough clusters to evaluate.\")"
   ]
  },
  {
   "cell_type": "markdown",
   "id": "96a103fc",
   "metadata": {},
   "source": [
    "## Comparing Performance"
   ]
  },
  {
   "cell_type": "code",
   "execution_count": null,
   "id": "28885e79",
   "metadata": {},
   "outputs": [],
   "source": [
    "results = pd.DataFrame({\n",
    "    'Clustering Algorithm': ['K-Means', 'Agglomerative Clustering', 'DBSCAN'],\n",
    "    'Adjusted Rand Index (ARI)': [ari_kmeans, ari_agg, ari_dbscan],\n",
    "    'Silhouette Score': [silhouette_kmeans, silhouette_agg, silhouette_dbscan]\n",
    "})\n",
    "\n",
    "print(results)"
   ]
  },
  {
   "cell_type": "markdown",
   "id": "8efd22ac",
   "metadata": {},
   "source": [
    "## Interpreting Results"
   ]
  },
  {
   "cell_type": "markdown",
   "id": "1337979f",
   "metadata": {},
   "source": [
    "# Exercise 6"
   ]
  },
  {
   "cell_type": "code",
   "execution_count": null,
   "id": "138e062c",
   "metadata": {},
   "outputs": [],
   "source": [
    "from sklearn.ensemble import IsolationForest\n",
    "from sklearn.svm import OneClassSVM\n",
    "from sklearn.neighbors import LocalOutlierFactor\n",
    "from sklearn.metrics import classification_report, accuracy_score\n",
    "from sklearn.preprocessing import StandardScaler"
   ]
  },
  {
   "cell_type": "code",
   "execution_count": null,
   "id": "75934a23",
   "metadata": {},
   "outputs": [],
   "source": []
  },
  {
   "cell_type": "markdown",
   "id": "ae66db91",
   "metadata": {},
   "source": [
    "# Exercise 7"
   ]
  },
  {
   "cell_type": "code",
   "execution_count": null,
   "id": "de952e9a",
   "metadata": {},
   "outputs": [],
   "source": []
  },
  {
   "cell_type": "markdown",
   "id": "ac2a9b0a",
   "metadata": {},
   "source": [
    "# Exercise 8"
   ]
  },
  {
   "cell_type": "code",
   "execution_count": null,
   "id": "21089493",
   "metadata": {},
   "outputs": [],
   "source": []
  }
 ],
 "metadata": {
  "kernelspec": {
   "display_name": "Python 3 (ipykernel)",
   "language": "python",
   "name": "python3"
  },
  "language_info": {
   "codemirror_mode": {
    "name": "ipython",
    "version": 3
   },
   "file_extension": ".py",
   "mimetype": "text/x-python",
   "name": "python",
   "nbconvert_exporter": "python",
   "pygments_lexer": "ipython3",
   "version": "3.10.12"
  }
 },
 "nbformat": 4,
 "nbformat_minor": 5
}
